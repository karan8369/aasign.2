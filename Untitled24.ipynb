{
 "cells": [
  {
   "cell_type": "code",
   "execution_count": 5,
   "id": "2ea7e9aa",
   "metadata": {},
   "outputs": [
    {
     "name": "stdout",
     "output_type": "stream",
     "text": [
      "Enter the number of Fibonacci numbers: 5\n",
      "[0, 1, 1, 8, 27]\n"
     ]
    }
   ],
   "source": [
    "n=int(input(\"Enter the number of Fibonacci numbers: \"))\n",
    "fibonacci = [0, 1]\n",
    "for i in range(2,n):\n",
    "    fibonacci.append(fibonacci[i-1]+fibonacci[i-2])\n",
    "cube_fibonacii = list(map(lambda x: x**3,fibonacci))\n",
    "print(cube_fibonacii)"
   ]
  },
  {
   "cell_type": "code",
   "execution_count": 12,
   "id": "7abb735a",
   "metadata": {},
   "outputs": [
    {
     "name": "stdout",
     "output_type": "stream",
     "text": [
      "2\n",
      "2\n",
      "2\n",
      "2\n",
      "[[0, 0, 0], [0, 0, 1], [0, 1, 0], [0, 1, 2], [0, 2, 1], [0, 2, 2], [1, 0, 0], [1, 0, 2], [1, 1, 1], [1, 1, 2], [1, 2, 0], [1, 2, 1], [1, 2, 2], [2, 0, 1], [2, 0, 2], [2, 1, 0], [2, 1, 1], [2, 1, 2], [2, 2, 0], [2, 2, 1], [2, 2, 2]]\n"
     ]
    }
   ],
   "source": [
    "x = int(input())\n",
    "y = int(input())\n",
    "z= int(input())\n",
    "n = int(input())\n",
    "result = [[i,j,k] for i in range(x+1) for j in range(y+1) for k in range(z+1) if (i+j+k) != n]\n",
    "print(result)"
   ]
  },
  {
   "cell_type": "code",
   "execution_count": null,
   "id": "71fb6797",
   "metadata": {},
   "outputs": [],
   "source": [
    "^[a-z][1-9][^a-z][^A-Z][A-Z]$"
   ]
  }
 ],
 "metadata": {
  "kernelspec": {
   "display_name": "Python 3 (ipykernel)",
   "language": "python",
   "name": "python3"
  },
  "language_info": {
   "codemirror_mode": {
    "name": "ipython",
    "version": 3
   },
   "file_extension": ".py",
   "mimetype": "text/x-python",
   "name": "python",
   "nbconvert_exporter": "python",
   "pygments_lexer": "ipython3",
   "version": "3.10.9"
  }
 },
 "nbformat": 4,
 "nbformat_minor": 5
}
